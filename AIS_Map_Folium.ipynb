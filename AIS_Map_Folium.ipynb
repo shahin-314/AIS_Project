{
 "cells": [
  {
   "cell_type": "code",
   "execution_count": 1,
   "id": "d1bd1bf1-fd1f-4a4d-b43b-19cb4893477e",
   "metadata": {},
   "outputs": [
    {
     "name": "stdout",
     "output_type": "stream",
     "text": [
      "CSV Columns: Index(['MMSI', 'BaseDateTime', 'LAT', 'LON', 'SOG', 'COG', 'Heading',\n",
      "       'VesselName', 'IMO', 'CallSign', 'VesselType', 'Status', 'Length',\n",
      "       'Width', 'Draft', 'Cargo', 'TransceiverClass'],\n",
      "      dtype='object')\n",
      "Sample Size: 10000\n",
      "Map saved to D:\\AIS_Project\\ship_map.html. Open in a browser.\n"
     ]
    },
    {
     "data": {
      "text/html": [
       "\n",
       "        <iframe\n",
       "            width=\"800\"\n",
       "            height=\"600\"\n",
       "            src=\"D:\\\\AIS_Project\\\\ship_map.html\"\n",
       "            frameborder=\"0\"\n",
       "            allowfullscreen\n",
       "            \n",
       "        ></iframe>\n",
       "        "
      ],
      "text/plain": [
       "<IPython.lib.display.IFrame at 0x1a9083fecf0>"
      ]
     },
     "execution_count": 1,
     "metadata": {},
     "output_type": "execute_result"
    }
   ],
   "source": [
    "import pandas as pd\n",
    "import folium\n",
    "from folium.plugins import MarkerCluster\n",
    "from IPython.display import IFrame\n",
    "\n",
    "# Load CSV with a sample (e.g., 10,000 rows) to handle large data\n",
    "csv_path = r\"D:\\AIS_Project\\AIS_2024_01_01.csv\"\n",
    "df = pd.read_csv(csv_path, nrows=10000)  # Limit to 10,000 rows for testing\n",
    "\n",
    "# Verify and clean data\n",
    "if 'LAT' not in df.columns or 'LON' not in df.columns:\n",
    "    raise ValueError(\"CSV must contain 'LAT' and 'LON' columns.\")\n",
    "df = df.dropna(subset=['LAT', 'LON'])  # Remove rows with missing coordinates\n",
    "df = df[(df['LAT'].between(-90, 90)) & (df['LON'].between(-180, 180))]  # Filter valid latitude/longitude\n",
    "\n",
    "# Print columns and sample size\n",
    "print(\"CSV Columns:\", df.columns)\n",
    "print(\"Sample Size:\", len(df))\n",
    "\n",
    "# Create map\n",
    "map_center = [df['LAT'].mean(), df['LON'].mean()]\n",
    "m = folium.Map(location=map_center, zoom_start=5)\n",
    "\n",
    "# Add markers (limited to 10,000 for performance)\n",
    "marker_cluster = MarkerCluster().add_to(m)\n",
    "for idx, row in df.iterrows():\n",
    "    popup_text = f\"MMSI: {row.get('MMSI', 'N/A')}<br>Vessel: {row.get('VesselName', 'Unknown')}\"\n",
    "    folium.Marker([row['LAT'], row['LON']], popup=popup_text).add_to(marker_cluster)\n",
    "\n",
    "# Save and display\n",
    "m.save(r\"D:\\\\AIS_Project\\\\ship_map.html\")\n",
    "print(\"Map saved to D:\\\\AIS_Project\\\\ship_map.html. Open in a browser.\")\n",
    "IFrame(src=r\"D:\\\\AIS_Project\\\\ship_map.html\", width=800, height=600)"
   ]
  },
  {
   "cell_type": "code",
   "execution_count": null,
   "id": "83782a1b-1e39-47fd-937e-9c70dbda322c",
   "metadata": {},
   "outputs": [],
   "source": []
  }
 ],
 "metadata": {
  "kernelspec": {
   "display_name": "Python 3 (ipykernel)",
   "language": "python",
   "name": "python3"
  },
  "language_info": {
   "codemirror_mode": {
    "name": "ipython",
    "version": 3
   },
   "file_extension": ".py",
   "mimetype": "text/x-python",
   "name": "python",
   "nbconvert_exporter": "python",
   "pygments_lexer": "ipython3",
   "version": "3.13.5"
  }
 },
 "nbformat": 4,
 "nbformat_minor": 5
}
